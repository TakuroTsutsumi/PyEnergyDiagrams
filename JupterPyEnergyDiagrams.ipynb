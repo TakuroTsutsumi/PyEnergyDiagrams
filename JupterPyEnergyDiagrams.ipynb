{
 "cells": [
  {
   "cell_type": "markdown",
   "source": [
    "# Modified PyEnergyDiagrams\n",
    "\n",
    "Original repository:\n",
    "- https://github.com/giacomomarchioro/PyEnergyDiagrams\n",
    "\n",
    "Forked repository:\n",
    "- https://github.com/giacomomarchioro/PyEnergyDiagrams"
   ],
   "metadata": {
    "collapsed": false,
    "pycharm": {
     "name": "#%% md\n"
    }
   }
  },
  {
   "cell_type": "markdown",
   "source": [
    "## Google Drive のマウント（Google Colab の場合）\n",
    "- My drive 直下の「Colab Notebook」フォルダ内で作業すること"
   ],
   "metadata": {
    "collapsed": false,
    "pycharm": {
     "name": "#%% md\n"
    }
   }
  },
  {
   "cell_type": "code",
   "execution_count": null,
   "outputs": [],
   "source": [
    "from google.colab import drive\n",
    "drive.mount('/content/drive')\n",
    "\n",
    "!pip install cmocean\n",
    "# Set your environment\n",
    "import sys\n",
    "%cd /content/drive/MyDrive/Colab Notebooks/plot_Figs_ReSPer_Colab\n",
    "sys.path.append('/content/drive/MyDrive/Colab Notebooks/plot_Figs_ReSPer_Colab/parser_resper2matplotlib.py')\n",
    "sys.path.append('/content/drive/MyDrive/Colab Notebooks/plot_Figs_ReSPer_Colab/method_matplotlib_plotly.py')\n",
    "\n",
    "# Reload modules\n",
    "#    Ref: https://qiita.com/Kunikata/items/45e731753e97bda28aab\n",
    "# import importlib\n",
    "# importlib.reload(module1)"
   ],
   "metadata": {
    "collapsed": false,
    "pycharm": {
     "name": "#%%\n"
    }
   }
  },
  {
   "cell_type": "code",
   "execution_count": 11,
   "metadata": {
    "collapsed": true,
    "pycharm": {
     "name": "#%%\n"
    }
   },
   "outputs": [
    {
     "name": "stdout",
     "output_type": "stream",
     "text": [
      "The autoreload extension is already loaded. To reload it, use:\n",
      "  %reload_ext autoreload\n"
     ]
    }
   ],
   "source": [
    "import sys\n",
    "import pandas as pd\n",
    "from pathlib import Path\n",
    "\n",
    "%matplotlib inline\n",
    "%load_ext autoreload"
   ]
  },
  {
   "cell_type": "markdown",
   "source": [
    "## Initial setting\n",
    "\n",
    "### csv データから必要なデータを読み込み、加工（前処理）\n",
    "\n",
    "csv ファイルには少なくとも以下の列名が必要\n",
    "\n",
    "**Energy, Color, Position, LineStyle, LineWidth, TopText, BottomText, RightText, LeftText, LinkTo, LinkLineStyle, LinkLineWidth, LinkLineColor**\n",
    "\n",
    "- それぞれの列を energy, color のような変数に格納\n",
    "- 必要に応じて欠損値（NaN）の処理や型変換を実施\n",
    "  - df[\"Color\"].fillna(\"black\") は csv の Color 列が空白（NaN）であれば \"black\" で埋めるという意味\n",
    "  - これによってデフォルト値を指定\n",
    "\n",
    "### csv ファイルで利用可能な parameters\n",
    "\n",
    "- Color\n",
    "  - black, red, blue, green など。詳細 → https://matplotlib.org/stable/gallery/color/named_colors.html\n",
    "- Position\n",
    "  - エネルギー準位を描画する x 座標を指定。小数、負の値も指定可能。\n",
    "- LineStyle\n",
    "  - solid, dashed, dashdot, dotted のみ利用可能。\n",
    "- LineWidth\n",
    "  - エネルギー準位の太さを指定。デフォルトは 1.0（add_level 関数で処理）。\n",
    "- TopText, BottomText, RightText, LeftText\n",
    "  - エネルギー準位の上、下、右、左に挿入されるテキスト。\n",
    "- LinkTo\n",
    "  - エネルギー準位を結ぶ link の行き先の行番号を指定。0 から始まる行番号で指定する。\n",
    "  - 出発点は自分自身の行番号となる。\n",
    "- LinkLineStyle\n",
    "  - link の LineStyle。LineStyle と同様。\n",
    "- LinkLineWidth\n",
    "  - link の LineWidth。LineWidth と同様。\n",
    "- LinkLineColor\n",
    "  - link の LineColor。LineColor と同様。"
   ],
   "metadata": {
    "collapsed": false,
    "pycharm": {
     "name": "#%% md\n"
    }
   }
  },
  {
   "cell_type": "code",
   "execution_count": 56,
   "outputs": [
    {
     "data": {
      "text/plain": "       Name  Energy  Color  Position LineStyle  LineWidth TopText BottomText  \\\n0     T1 A'       0      k       0.0     solid          2   T1 A'     bottom   \n1     T1 A'       1      k       0.0     solid          2  T2 A''        NaN   \n2    T2 A''       5    red       0.5    dashed          2   S1 A'         1⊿   \n3   T3 A'''       5   blue      -0.5   dashdot          2   S2 A'         1⊿   \n4  T4 A''''      10      k       0.0    dotted          2   T3 A'        NaN   \n5       Exp       8  green      -1.0     solid          2     NaN        NaN   \n6       Exp       8  green      -0.5    dashed          2     NaN        NaN   \n7       Exp       8  green       0.0     solid          2     NaN        NaN   \n8       Exp       8  green       0.5    dashed          2     NaN        NaN   \n9       Exp       8  green       1.0    dotted          2     Exp        NaN   \n\n   RightText  LeftText  LinkTo  LinkLineStyle  LinkLineWidth  LinkLineColor  \n0        0.0       NaN     NaN            NaN            NaN            NaN  \n1        1.0       NaN     NaN            NaN            NaN            NaN  \n2        5.0       NaN     NaN            NaN            NaN            NaN  \n3        5.0       NaN     NaN            NaN            NaN            NaN  \n4       10.0       NaN     NaN            NaN            NaN            NaN  \n5        NaN       NaN     NaN            NaN            NaN            NaN  \n6        NaN       NaN     NaN            NaN            NaN            NaN  \n7        NaN       NaN     NaN            NaN            NaN            NaN  \n8        NaN       NaN     NaN            NaN            NaN            NaN  \n9        8.0       NaN     NaN            NaN            NaN            NaN  ",
      "text/html": "<div>\n<style scoped>\n    .dataframe tbody tr th:only-of-type {\n        vertical-align: middle;\n    }\n\n    .dataframe tbody tr th {\n        vertical-align: top;\n    }\n\n    .dataframe thead th {\n        text-align: right;\n    }\n</style>\n<table border=\"1\" class=\"dataframe\">\n  <thead>\n    <tr style=\"text-align: right;\">\n      <th></th>\n      <th>Name</th>\n      <th>Energy</th>\n      <th>Color</th>\n      <th>Position</th>\n      <th>LineStyle</th>\n      <th>LineWidth</th>\n      <th>TopText</th>\n      <th>BottomText</th>\n      <th>RightText</th>\n      <th>LeftText</th>\n      <th>LinkTo</th>\n      <th>LinkLineStyle</th>\n      <th>LinkLineWidth</th>\n      <th>LinkLineColor</th>\n    </tr>\n  </thead>\n  <tbody>\n    <tr>\n      <th>0</th>\n      <td>T1 A'</td>\n      <td>0</td>\n      <td>k</td>\n      <td>0.0</td>\n      <td>solid</td>\n      <td>2</td>\n      <td>T1 A'</td>\n      <td>bottom</td>\n      <td>0.0</td>\n      <td>NaN</td>\n      <td>NaN</td>\n      <td>NaN</td>\n      <td>NaN</td>\n      <td>NaN</td>\n    </tr>\n    <tr>\n      <th>1</th>\n      <td>T1 A'</td>\n      <td>1</td>\n      <td>k</td>\n      <td>0.0</td>\n      <td>solid</td>\n      <td>2</td>\n      <td>T2 A''</td>\n      <td>NaN</td>\n      <td>1.0</td>\n      <td>NaN</td>\n      <td>NaN</td>\n      <td>NaN</td>\n      <td>NaN</td>\n      <td>NaN</td>\n    </tr>\n    <tr>\n      <th>2</th>\n      <td>T2 A''</td>\n      <td>5</td>\n      <td>red</td>\n      <td>0.5</td>\n      <td>dashed</td>\n      <td>2</td>\n      <td>S1 A'</td>\n      <td>1⊿</td>\n      <td>5.0</td>\n      <td>NaN</td>\n      <td>NaN</td>\n      <td>NaN</td>\n      <td>NaN</td>\n      <td>NaN</td>\n    </tr>\n    <tr>\n      <th>3</th>\n      <td>T3 A'''</td>\n      <td>5</td>\n      <td>blue</td>\n      <td>-0.5</td>\n      <td>dashdot</td>\n      <td>2</td>\n      <td>S2 A'</td>\n      <td>1⊿</td>\n      <td>5.0</td>\n      <td>NaN</td>\n      <td>NaN</td>\n      <td>NaN</td>\n      <td>NaN</td>\n      <td>NaN</td>\n    </tr>\n    <tr>\n      <th>4</th>\n      <td>T4 A''''</td>\n      <td>10</td>\n      <td>k</td>\n      <td>0.0</td>\n      <td>dotted</td>\n      <td>2</td>\n      <td>T3 A'</td>\n      <td>NaN</td>\n      <td>10.0</td>\n      <td>NaN</td>\n      <td>NaN</td>\n      <td>NaN</td>\n      <td>NaN</td>\n      <td>NaN</td>\n    </tr>\n    <tr>\n      <th>5</th>\n      <td>Exp</td>\n      <td>8</td>\n      <td>green</td>\n      <td>-1.0</td>\n      <td>solid</td>\n      <td>2</td>\n      <td>NaN</td>\n      <td>NaN</td>\n      <td>NaN</td>\n      <td>NaN</td>\n      <td>NaN</td>\n      <td>NaN</td>\n      <td>NaN</td>\n      <td>NaN</td>\n    </tr>\n    <tr>\n      <th>6</th>\n      <td>Exp</td>\n      <td>8</td>\n      <td>green</td>\n      <td>-0.5</td>\n      <td>dashed</td>\n      <td>2</td>\n      <td>NaN</td>\n      <td>NaN</td>\n      <td>NaN</td>\n      <td>NaN</td>\n      <td>NaN</td>\n      <td>NaN</td>\n      <td>NaN</td>\n      <td>NaN</td>\n    </tr>\n    <tr>\n      <th>7</th>\n      <td>Exp</td>\n      <td>8</td>\n      <td>green</td>\n      <td>0.0</td>\n      <td>solid</td>\n      <td>2</td>\n      <td>NaN</td>\n      <td>NaN</td>\n      <td>NaN</td>\n      <td>NaN</td>\n      <td>NaN</td>\n      <td>NaN</td>\n      <td>NaN</td>\n      <td>NaN</td>\n    </tr>\n    <tr>\n      <th>8</th>\n      <td>Exp</td>\n      <td>8</td>\n      <td>green</td>\n      <td>0.5</td>\n      <td>dashed</td>\n      <td>2</td>\n      <td>NaN</td>\n      <td>NaN</td>\n      <td>NaN</td>\n      <td>NaN</td>\n      <td>NaN</td>\n      <td>NaN</td>\n      <td>NaN</td>\n      <td>NaN</td>\n    </tr>\n    <tr>\n      <th>9</th>\n      <td>Exp</td>\n      <td>8</td>\n      <td>green</td>\n      <td>1.0</td>\n      <td>dotted</td>\n      <td>2</td>\n      <td>Exp</td>\n      <td>NaN</td>\n      <td>8.0</td>\n      <td>NaN</td>\n      <td>NaN</td>\n      <td>NaN</td>\n      <td>NaN</td>\n      <td>NaN</td>\n    </tr>\n  </tbody>\n</table>\n</div>"
     },
     "execution_count": 56,
     "metadata": {},
     "output_type": "execute_result"
    }
   ],
   "source": [
    "INPUT_DIR = \"INPUT\"\n",
    "CSV_FNAME = \"test.csv\"\n",
    "\n",
    "FIGSIZE = (5, 10)\n",
    "FONTSIZE = 18\n",
    "\n",
    "df = pd.read_csv(INPUT_DIR + \"/\" + CSV_FNAME, index_col=0)\n",
    "\n",
    "# For energy diagram\n",
    "energy = df[\"Energy\"].fillna(0.0)\n",
    "color = df[\"Color\"].fillna(\"black\")\n",
    "position = df[\"Position\"].fillna(0)\n",
    "linestyle = df[\"LineStyle\"].fillna(\"solid\")\n",
    "linewidth = df[\"LineWidth\"].fillna(-9999)\n",
    "toptxt = df[\"TopText\"].fillna(\"\")  # See https://qiita.com/0NE_shoT_/items/8db6d909e8b48adcb203#fillna\n",
    "bottxt = df[\"BottomText\"].fillna(\"\")\n",
    "rigtxt = df[\"RightText\"].fillna(\"\")\n",
    "leftxt = df[\"LeftText\"].fillna(\"\")\n",
    "\n",
    "# For linkage\n",
    "df_link = df.filter(like=\"Link\", axis=1)  # Get LinkXXX columns\n",
    "df_link = df_link.dropna(how=\"any\")  # Delete row with NaN. See https://qiita.com/0NE_shoT_/items/8db6d909e8b48adcb203#dropna\n",
    "linkfrom = df.index.astype(int)\n",
    "linkto = df_link[\"LinkTo\"].astype(int)\n",
    "linklinestyle = df_link[\"LinkLineStyle\"].fillna(\"dashed\")\n",
    "linklinewidth = df_link[\"LinkLineWidth\"].fillna(1.0)\n",
    "linklinecolor = df_link[\"LinkLineColor\"].fillna(\"black\")\n",
    "\n",
    "df"
   ],
   "metadata": {
    "collapsed": false,
    "pycharm": {
     "name": "#%%\n"
    }
   }
  },
  {
   "cell_type": "markdown",
   "source": [
    "## PyEnergyDiagrams\n",
    "\n",
    "### エネルギーダイアグラムを作成\n",
    "\n",
    "- diagram = ED()\n",
    "  - PyEnergyDiagrams プログラムに実装されている ED クラスを diagram として利用\n",
    "- First loop\n",
    "  - エネルギー準位 (level) を描画するための情報を指定\n",
    "- Second loop\n",
    "  - エネルギー準位を結ぶ直線 (link) を描画するための情報を指定\n",
    "- diagram.plot()\n",
    "  - First, second loops で指定した情報を元にエネルギーダイアグラムを描画\n"
   ],
   "metadata": {
    "collapsed": false,
    "pycharm": {
     "name": "#%% md\n"
    }
   }
  },
  {
   "cell_type": "code",
   "execution_count": 57,
   "outputs": [
    {
     "data": {
      "text/plain": "<Figure size 432x288 with 0 Axes>"
     },
     "metadata": {},
     "output_type": "display_data"
    },
    {
     "data": {
      "text/plain": "<Figure size 360x720 with 1 Axes>",
      "image/png": "[encoded data removed]"
     },
     "metadata": {
      "needs_background": "light"
     },
     "output_type": "display_data"
    }
   ],
   "source": [
    "%autoreload 2\n",
    "sys.path.append(str(Path().resolve().parent) + \"/energydiagram/\")\n",
    "from energydiagram import ED\n",
    "\n",
    "diagram = ED()\n",
    "\n",
    "# For levels\n",
    "for iene, ic, ipos, ils, ilw, itoptxt, ibottex, irigtxt, ileftex in zip(energy, color, position, linestyle, linewidth, toptxt, bottxt, rigtxt, leftxt):\n",
    "    diagram.add_level(energy=iene, bottom_text=ibottex, position=ipos, color=ic, top_text=itoptxt, right_text=irigtxt, left_text=ileftex, linestyle=ils, linewidth=ilw)\n",
    "\n",
    "# For links\n",
    "for ifrom, ito, ils, ilw, ic in zip(linkfrom, linkto, linklinestyle, linklinewidth, linklinecolor):\n",
    "    diagram.add_link(start_level_id=ifrom, end_level_id=ito, color=ic, ls=ils, linewidth=ilw)\n",
    "\n",
    "diagram.plot(show_IDs=True, figsize=FIGSIZE, fontsize=FONTSIZE, ylabel=\"Relative energy / eV\")\n",
    "\n",
    "# Save plots\n",
    "outfname = \"%s_EnergyDiagram\" % str(Path(CSV_FNAME).stem)\n",
    "diagram.fig.savefig(outfname + \".png\", dpi=400, transparent=True, bbox_inches='tight')\n",
    "diagram.fig.savefig(outfname + \".svg\", dpi=400, transparent=True, bbox_inches='tight')  # ベクター画像。拡大しても画質が変わらない。\n",
    "# diagram.fig.savefig(outfname + \".eps\", dpi=400, transparent=True, bbox_inches='tight')  # ベクター画像。PPTに貼り付けられるかも？"
   ],
   "metadata": {
    "collapsed": false,
    "pycharm": {
     "name": "#%%\n"
    }
   }
  }
 ],
 "metadata": {
  "kernelspec": {
   "display_name": "Python 3",
   "language": "python",
   "name": "python3"
  },
  "language_info": {
   "codemirror_mode": {
    "name": "ipython",
    "version": 2
   },
   "file_extension": ".py",
   "mimetype": "text/x-python",
   "name": "python",
   "nbconvert_exporter": "python",
   "pygments_lexer": "ipython2",
   "version": "2.7.6"
  }
 },
 "nbformat": 4,
 "nbformat_minor": 0
}